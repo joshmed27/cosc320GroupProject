{
 "cells": [
  {
   "cell_type": "code",
   "execution_count": 1,
   "metadata": {},
   "outputs": [],
   "source": [
    "%matplotlib inline\n",
    "import sys, os\n",
    "import pandas as pd\n",
    "import numpy as np\n",
    "import matplotlib.pyplot as plt\n",
    "import matplotlib\n",
    "\n",
    "sys.path.insert(0,os.path.abspath('..'))\n",
    "from Scripts.methodChain import *\n",
    "\n",
    "plt.rc(\"axes.spines\", top=False, right=False)"
   ]
  },
  {
   "cell_type": "markdown",
   "metadata": {},
   "source": [
    "# Cleaning up data\n",
    "We have created a script called methodChain that contains chained methods load_and_processText() as well as load_and_processSlang() which gets rid of uneccessary columns in our datasets. The cleaned up datasets are then loaded into df - list of text inputs - and dfSlang - list of abbreviations and the corresponding keys."
   ]
  },
  {
   "cell_type": "code",
   "execution_count": 2,
   "metadata": {},
   "outputs": [],
   "source": [
    "df = load_and_processText()\n",
    "dfSlang = load_and_processSlang()"
   ]
  },
  {
   "cell_type": "markdown",
   "metadata": {},
   "source": [
    "## df: List of text inputs"
   ]
  },
  {
   "cell_type": "code",
   "execution_count": 3,
   "metadata": {},
   "outputs": [
    {
     "data": {
      "text/html": [
       "<div>\n",
       "<style scoped>\n",
       "    .dataframe tbody tr th:only-of-type {\n",
       "        vertical-align: middle;\n",
       "    }\n",
       "\n",
       "    .dataframe tbody tr th {\n",
       "        vertical-align: top;\n",
       "    }\n",
       "\n",
       "    .dataframe thead th {\n",
       "        text-align: right;\n",
       "    }\n",
       "</style>\n",
       "<table border=\"1\" class=\"dataframe\">\n",
       "  <thead>\n",
       "    <tr style=\"text-align: right;\">\n",
       "      <th></th>\n",
       "      <th>text</th>\n",
       "    </tr>\n",
       "  </thead>\n",
       "  <tbody>\n",
       "    <tr>\n",
       "      <th>0</th>\n",
       "      <td>Another update 20th February and still no biom...</td>\n",
       "    </tr>\n",
       "    <tr>\n",
       "      <th>1</th>\n",
       "      <td>I've had nothing but positive experiences with...</td>\n",
       "    </tr>\n",
       "    <tr>\n",
       "      <th>2</th>\n",
       "      <td>Great app that I use almost every day, would b...</td>\n",
       "    </tr>\n",
       "    <tr>\n",
       "      <th>3</th>\n",
       "      <td>Update: After some updates, this app is much e...</td>\n",
       "    </tr>\n",
       "    <tr>\n",
       "      <th>4</th>\n",
       "      <td>AMAZON IS NO. 1 🌹🌹HAVE BEEN ORDERING FROM AMAZ...</td>\n",
       "    </tr>\n",
       "    <tr>\n",
       "      <th>...</th>\n",
       "      <td>...</td>\n",
       "    </tr>\n",
       "    <tr>\n",
       "      <th>74635</th>\n",
       "      <td>Great app,add the edit text, so one cant easil...</td>\n",
       "    </tr>\n",
       "    <tr>\n",
       "      <th>74636</th>\n",
       "      <td>GUE MO KOMPLEN, INI TOMBOL CALL AMA OPTION NYA...</td>\n",
       "    </tr>\n",
       "    <tr>\n",
       "      <th>74637</th>\n",
       "      <td>Not working properly. All the time restart aap.</td>\n",
       "    </tr>\n",
       "    <tr>\n",
       "      <th>74638</th>\n",
       "      <td>HTC one x Didn't get the camera feature in rec...</td>\n",
       "    </tr>\n",
       "    <tr>\n",
       "      <th>74639</th>\n",
       "      <td>Disappointed with new up update vesion. Very bad.</td>\n",
       "    </tr>\n",
       "  </tbody>\n",
       "</table>\n",
       "<p>74640 rows × 1 columns</p>\n",
       "</div>"
      ],
      "text/plain": [
       "                                                    text\n",
       "0      Another update 20th February and still no biom...\n",
       "1      I've had nothing but positive experiences with...\n",
       "2      Great app that I use almost every day, would b...\n",
       "3      Update: After some updates, this app is much e...\n",
       "4      AMAZON IS NO. 1 🌹🌹HAVE BEEN ORDERING FROM AMAZ...\n",
       "...                                                  ...\n",
       "74635  Great app,add the edit text, so one cant easil...\n",
       "74636  GUE MO KOMPLEN, INI TOMBOL CALL AMA OPTION NYA...\n",
       "74637    Not working properly. All the time restart aap.\n",
       "74638  HTC one x Didn't get the camera feature in rec...\n",
       "74639  Disappointed with new up update vesion. Very bad.\n",
       "\n",
       "[74640 rows x 1 columns]"
      ]
     },
     "execution_count": 3,
     "metadata": {},
     "output_type": "execute_result"
    }
   ],
   "source": [
    "df"
   ]
  },
  {
   "cell_type": "markdown",
   "metadata": {},
   "source": [
    "# Implementation of pseudocode\n",
    "We've created a function called implementation which takes a text input, finds all abbreviations and replace them with the corresponding key."
   ]
  },
  {
   "cell_type": "code",
   "execution_count": 5,
   "metadata": {},
   "outputs": [],
   "source": [
    "def implementation(tweet):\n",
    "    found = 0\n",
    "    tweet.lower()\n",
    "    for index, row in dfSlang.iterrows():\n",
    "        try:\n",
    "            found= tweet.index(row['Column1']) \n",
    "        except (ValueError, TypeError):\n",
    "            found=-1\n",
    "        if found>-1:\n",
    "            punct = [\"\",\" \",\".\", \",\",\"!\",\"?\"]\n",
    "            if found == 0 or tweet[(found-1):found] in punct:\n",
    "                tweet = tweet.replace(row['Column1'], row['Column2'])\n",
    "    return tweet"
   ]
  },
  {
   "cell_type": "code",
   "execution_count": 21,
   "metadata": {},
   "outputs": [
    {
     "ename": "SyntaxError",
     "evalue": "invalid syntax (<ipython-input-21-2c7bcbd8d361>, line 7)",
     "output_type": "error",
     "traceback": [
      "\u001b[1;36m  File \u001b[1;32m\"<ipython-input-21-2c7bcbd8d361>\"\u001b[1;36m, line \u001b[1;32m7\u001b[0m\n\u001b[1;33m    except (ValueError, TypeError):\u001b[0m\n\u001b[1;37m    ^\u001b[0m\n\u001b[1;31mSyntaxError\u001b[0m\u001b[1;31m:\u001b[0m invalid syntax\n"
     ]
    }
   ],
   "source": [
    "def implementation2(tweet):\n",
    "    found = 0\n",
    "    array = dfSlang.to_numpy()\n",
    "    tweet.lower()\n",
    "    for i in range(len(array)):\n",
    "        try:\n",
    "            found = tweet.index(array[i][0])\n",
    "        except (ValueError, TypeError):\n",
    "            found=-1\n",
    "        if found>-1:\n",
    "            punct = [\"\",\" \",\".\", \",\",\"!\",\"?\"]\n",
    "            if found == 0 or tweet[(found-1):found] in punct:\n",
    "                tweet = tweet.replace(array[i][0],array[i][1])\n",
    "    return tweet"
   ]
  },
  {
   "cell_type": "code",
   "execution_count": null,
   "metadata": {},
   "outputs": [],
   "source": [
    "\n",
    "        \n",
    "        \n",
    "    "
   ]
  },
  {
   "cell_type": "markdown",
   "metadata": {},
   "source": [
    "# Test case and output\n",
    "Here is a sample text input with some abbreviations that we've tested with our implementation function."
   ]
  },
  {
   "cell_type": "code",
   "execution_count": 7,
   "metadata": {},
   "outputs": [
    {
     "data": {
      "text/plain": [
       "\"we're still meeting at 8pm as far as I know. if anything changes i'll send you the details. see you later and take care.\""
      ]
     },
     "execution_count": 7,
     "metadata": {},
     "output_type": "execute_result"
    }
   ],
   "source": [
    "sample = \"we're still meeting at 8pm afaik. if anything changes i'll send you the deets. cu l8r and tc.\"\n",
    "implementation2(sample)\n"
   ]
  },
  {
   "cell_type": "markdown",
   "metadata": {},
   "source": [
    "# Plots of different input sizes\n"
   ]
  },
  {
   "cell_type": "code",
   "execution_count": 8,
   "metadata": {},
   "outputs": [],
   "source": [
    "from tryItABunch import tryItABunch\n",
    "nValuesNaive, tValuesNaive = tryItABunch(implementation, startN = 148, endN = 25000, stepSize=74, numTrials=5, listMax = 10)"
   ]
  },
  {
   "cell_type": "code",
   "execution_count": 9,
   "metadata": {},
   "outputs": [
    {
     "data": {
      "text/plain": [
       "Text(0.5, 1.0, 'Original Naive algorithm')"
      ]
     },
     "execution_count": 9,
     "metadata": {},
     "output_type": "execute_result"
    },
    {
     "data": {
      "image/png": "[encoded data removed]",
      "text/plain": [
       "<Figure size 432x288 with 1 Axes>"
      ]
     },
     "metadata": {
      "needs_background": "light"
     },
     "output_type": "display_data"
    }
   ],
   "source": [
    "plt.plot(nValuesNaive, tValuesNaive,color=\"red\", label=\"Naive version\")\n",
    "plt.xlabel(\"n\")\n",
    "plt.ylabel(\"Time(ms)\")\n",
    "plt.legend()\n",
    "plt.title(\"Original Naive algorithm\")"
   ]
  },
  {
   "cell_type": "code",
   "execution_count": 10,
   "metadata": {},
   "outputs": [],
   "source": [
    "from tryItABunch2 import tryItABunch2\n",
    "nValuesNaive2, tValuesNaive2 = tryItABunch2(startN = 148, endN = 25000, stepSize=74, numTrials=5)"
   ]
  },
  {
   "cell_type": "code",
   "execution_count": 11,
   "metadata": {},
   "outputs": [
    {
     "data": {
      "text/plain": [
       "Text(0.5, 1.0, 'Naive algorithm verus Om+n')"
      ]
     },
     "execution_count": 11,
     "metadata": {},
     "output_type": "execute_result"
    },
    {
     "data": {
      "image/png": "[encoded data removed]",
      "text/plain": [
       "<Figure size 432x288 with 1 Axes>"
      ]
     },
     "metadata": {
      "needs_background": "light"
     },
     "output_type": "display_data"
    }
   ],
   "source": [
    "m, b = np.polyfit(nValuesNaive, tValuesNaive, 1)\n",
    "nValuesNaiveNP = np.array(nValuesNaive)\n",
    "plt.plot(nValuesNaive2, tValuesNaive2,color=\"blue\", label=\"O(m+n)\")\n",
    "plt.plot(nValuesNaive, m*nValuesNaiveNP+ b,color=\"red\", label=\"Naive version\")\n",
    "plt.xlabel(\"n\")\n",
    "plt.ylabel(\"Time(ms)\")\n",
    "plt.legend()\n",
    "plt.title(\"Naive algorithm verus Om+n\")"
   ]
  },
  {
   "cell_type": "code",
   "execution_count": null,
   "metadata": {},
   "outputs": [],
   "source": []
  }
 ],
 "metadata": {
  "kernelspec": {
   "display_name": "Python 3",
   "language": "python",
   "name": "python3"
  },
  "language_info": {
   "codemirror_mode": {
    "name": "ipython",
    "version": 3
   },
   "file_extension": ".py",
   "mimetype": "text/x-python",
   "name": "python",
   "nbconvert_exporter": "python",
   "pygments_lexer": "ipython3",
   "version": "3.8.3"
  }
 },
 "nbformat": 4,
 "nbformat_minor": 4
}
