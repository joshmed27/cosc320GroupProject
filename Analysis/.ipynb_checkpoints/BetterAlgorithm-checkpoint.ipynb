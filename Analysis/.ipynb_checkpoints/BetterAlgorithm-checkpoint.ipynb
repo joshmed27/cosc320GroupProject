{
 "cells": [
  {
   "cell_type": "markdown",
   "metadata": {},
   "source": [
    "# Imports"
   ]
  },
  {
   "cell_type": "code",
   "execution_count": 1,
   "metadata": {},
   "outputs": [],
   "source": [
    "%matplotlib inline\n",
    "import sys, os\n",
    "import pandas as pd\n",
    "import numpy as np\n",
    "import matplotlib.pyplot as plt\n",
    "import matplotlib\n",
    "\n",
    "sys.path.insert(0,os.path.abspath('..'))\n",
    "from Scripts.methodChain import *\n",
    "\n",
    "plt.rc(\"axes.spines\", top=False, right=False)"
   ]
  },
  {
   "cell_type": "markdown",
   "metadata": {},
   "source": [
    "# Cleaning up data\n",
    "We have created a script called methodChain that contains chained methods load_and_processText() as well as load_and_processSlang() which gets rid of uneccessary columns in our datasets. The cleaned up datasets are then loaded into df - list of text inputs - and dfSlang - list of abbreviations and the corresponding keys."
   ]
  },
  {
   "cell_type": "code",
   "execution_count": 2,
   "metadata": {},
   "outputs": [],
   "source": [
    "df = load_and_processText()\n",
    "dfSlang = load_and_processSlang()"
   ]
  },
  {
   "cell_type": "code",
   "execution_count": 3,
   "metadata": {},
   "outputs": [],
   "source": [
    " data_dict = dfSlang.set_index('Column1')['Column2'].to_dict()"
   ]
  },
  {
   "cell_type": "markdown",
   "metadata": {},
   "source": [
    "# Implementation of pseudocode\n",
    "We've created a function called implementation which takes a text input, finds all abbreviations and replace them with the corresponding key."
   ]
  },
  {
   "cell_type": "code",
   "execution_count": 4,
   "metadata": {},
   "outputs": [],
   "source": [
    "def implementation(tweet):\n",
    "    found = 0\n",
    "    tweet.lower()\n",
    "    words = tweet.split()\n",
    "    tweetFinal = \"\"\n",
    "    iterator = 0\n",
    "    for i in words:\n",
    "        \n",
    "        # Has a period\n",
    "        if(i[len(i)-1] == '.'):   \n",
    "            i = i[0:(len(i)-1)]\n",
    "            if(data_dict.get(i) != None):\n",
    "                words[iterator] = (data_dict.get(i) + \".\")\n",
    "            \n",
    "        #Does not have a period\n",
    "        elif(data_dict.get(i) != None):\n",
    "            words[iterator] = data_dict.get(i)\n",
    "        iterator+=1\n",
    "        \n",
    "    for j in words:\n",
    "        tweetFinal += (j + \" \")\n",
    "    return tweetFinal"
   ]
  },
  {
   "cell_type": "markdown",
   "metadata": {},
   "source": [
    "# Test case and output\n",
    "Here is a sample text input with some abbreviations that we've tested with our implementation function."
   ]
  },
  {
   "cell_type": "code",
   "execution_count": 5,
   "metadata": {},
   "outputs": [
    {
     "data": {
      "text/plain": [
       "\"we're still meeting at 8pm as far as I know. if anything changes i'll send you the details. see you later and take care. \""
      ]
     },
     "execution_count": 5,
     "metadata": {},
     "output_type": "execute_result"
    }
   ],
   "source": [
    "sample = \"we're still meeting at 8pm afaik. if anything changes i'll send you the deets. cu l8r and tc.\"\n",
    "implementation(sample)\n"
   ]
  },
  {
   "cell_type": "code",
   "execution_count": 6,
   "metadata": {},
   "outputs": [
    {
     "data": {
      "text/plain": [
       "'i think we are lost, this is not the way to go '"
      ]
     },
     "execution_count": 6,
     "metadata": {},
     "output_type": "execute_result"
    }
   ],
   "source": [
    "sample2 = \"i think we r lost, this is not the wtg\"\n",
    "implementation(sample2)\n"
   ]
  },
  {
   "cell_type": "code",
   "execution_count": 7,
   "metadata": {},
   "outputs": [
    {
     "data": {
      "text/plain": [
       "'thanks for coming to my birthday 2nite, will forward the pics to you '"
      ]
     },
     "execution_count": 7,
     "metadata": {},
     "output_type": "execute_result"
    }
   ],
   "source": [
    "sample3 = \"thx for coming to my b-day 2nite, will 4ward the pics to u\"\n",
    "implementation(sample3)"
   ]
  },
  {
   "cell_type": "markdown",
   "metadata": {},
   "source": [
    "# Plots of different input sizes\n"
   ]
  },
  {
   "cell_type": "code",
   "execution_count": 8,
   "metadata": {},
   "outputs": [],
   "source": [
    "from tryItABunch import tryItABunch\n",
    "nValuesNaive, tValuesNaive = tryItABunch(implementation, startN = 148, endN = 20000, stepSize=74, numTrials=5)"
   ]
  },
  {
   "cell_type": "code",
   "execution_count": 9,
   "metadata": {},
   "outputs": [
    {
     "data": {
      "text/plain": [
       "Text(0.5, 1.0, 'Original Naive algorithm')"
      ]
     },
     "execution_count": 9,
     "metadata": {},
     "output_type": "execute_result"
    },
    {
     "data": {
      "image/png": "[encoded data removed]",
      "text/plain": [
       "<Figure size 432x288 with 1 Axes>"
      ]
     },
     "metadata": {
      "needs_background": "light"
     },
     "output_type": "display_data"
    }
   ],
   "source": [
    "plt.plot(nValuesNaive, tValuesNaive,color=\"red\", label=\"Better version\")\n",
    "plt.xlabel(\"n\")\n",
    "plt.ylabel(\"Time(ms)\")\n",
    "plt.legend()\n",
    "plt.title(\"Improved Better Algorithm\")"
   ]
  },
  {
   "cell_type": "code",
   "execution_count": 10,
   "metadata": {},
   "outputs": [],
   "source": [
    "from tryItABunch3 import tryItABunch3\n",
    "nValuesNaive2, tValuesNaive2 = tryItABunch3(numTrials=5)"
   ]
  },
  {
   "cell_type": "code",
   "execution_count": 11,
   "metadata": {},
   "outputs": [
    {
     "data": {
      "text/plain": [
       "Text(0.5, 1.0, 'Better algorithm verus O(m+n+n)')"
      ]
     },
     "execution_count": 11,
     "metadata": {},
     "output_type": "execute_result"
    },
    {
     "data": {
      "image/png": "[encoded data removed]",
      "text/plain": [
       "<Figure size 432x288 with 1 Axes>"
      ]
     },
     "metadata": {
      "needs_background": "light"
     },
     "output_type": "display_data"
    }
   ],
   "source": [
    "m, b = np.polyfit(nValuesNaive, tValuesNaive, 1)\n",
    "nValuesBetterNP = np.array(nValuesNaive)\n",
    "\n",
    "m2, b2 = np.polyfit(nValuesNaive2, tValuesNaive2, 1)\n",
    "nValuesONP = np.array(nValuesNaive2)\n",
    "\n",
    "plt.plot(nValuesNaive, m* nValuesBetterNP+ b,color=\"red\", label=\"Better version\")\n",
    "\n",
    "plt.plot(nValuesNaive2, m2* nValuesONP+ b2,color=\"blue\", label=\"O(m+n+n)\")\n",
    "\n",
    "plt.xlabel(\"n\")\n",
    "plt.ylabel(\"Time(ms)\")\n",
    "plt.legend()\n",
    "plt.title(\"Better algorithm verus O(m+n+n)\")"
   ]
  },
  {
   "cell_type": "markdown",
   "metadata": {},
   "source": [
    "# Ask TA\n",
    "- Changing O notation for imple (if we can change m+n+n to m+n)\n",
    "- Weird Naive algo graph (it looks bad and linear)\n",
    "- Changing naive algo (if we can make it not linear)"
   ]
  },
  {
   "cell_type": "code",
   "execution_count": null,
   "metadata": {},
   "outputs": [],
   "source": []
  },
  {
   "cell_type": "code",
   "execution_count": null,
   "metadata": {},
   "outputs": [],
   "source": []
  }
 ],
 "metadata": {
  "kernelspec": {
   "display_name": "Python 3",
   "language": "python",
   "name": "python3"
  },
  "language_info": {
   "codemirror_mode": {
    "name": "ipython",
    "version": 3
   },
   "file_extension": ".py",
   "mimetype": "text/x-python",
   "name": "python",
   "nbconvert_exporter": "python",
   "pygments_lexer": "ipython3",
   "version": "3.8.3"
  }
 },
 "nbformat": 4,
 "nbformat_minor": 4
}
